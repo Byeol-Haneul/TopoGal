{
 "cells": [
  {
   "cell_type": "code",
   "execution_count": null,
   "id": "28d78c24-4213-4ea6-8cbf-bc13d4939655",
   "metadata": {},
   "outputs": [],
   "source": [
    "from tpcf import *\n",
    "\n",
    "global_rank = int(os.environ['RANK'])    \n",
    "local_rank = int(os.environ['LOCAL_RANK'])\n",
    "world_size = int(os.environ['WORLD_SIZE'])\n",
    "\n",
    "dist.init_process_group(backend=\"nccl\", init_method='env://') \n",
    "\n",
    "n_trials = 100\n",
    "\n",
    "if global_rank == 0:\n",
    "    os.makedirs(RESULT_DIR, exist_ok=True)\n",
    "    db_url = f'sqlite:///{os.path.join(RESULT_DIR, \"optuna_study.db\")}'\n",
    "\n",
    "    sampler = optuna.samplers.TPESampler(seed=12345)\n",
    "    study = optuna.create_study(direction='minimize', sampler=sampler, storage=db_url, load_if_exists=False)\n",
    "    study.optimize(objective, n_trials=n_trials)\n",
    "else:\n",
    "    for _ in range(n_trials):\n",
    "        objective(None)\n",
    "\n",
    "print('Best Trial Params:', study.best_trial.params)\n",
    "dist.destroy_process_group()"
   ]
  }
 ],
 "metadata": {
  "kernelspec": {
   "display_name": "topokernel",
   "language": "python",
   "name": "topokernel"
  },
  "language_info": {
   "codemirror_mode": {
    "name": "ipython",
    "version": 3
   },
   "file_extension": ".py",
   "mimetype": "text/x-python",
   "name": "python",
   "nbconvert_exporter": "python",
   "pygments_lexer": "ipython3",
   "version": "3.11.11"
  }
 },
 "nbformat": 4,
 "nbformat_minor": 5
}
